{
    "cells": [
        {
            "cell_type": "markdown",
            "metadata": {
                "collapsed": true
            },
            "source": "# Segmenting and Clustering Neighborhoods in Toronto (Latitude and Longitude) "
        },
        {
            "cell_type": "markdown",
            "metadata": {},
            "source": "#### Importing libraries"
        },
        {
            "cell_type": "code",
            "execution_count": 1,
            "metadata": {},
            "outputs": [],
            "source": "from bs4 import BeautifulSoup\nimport requests\nimport pandas as pd\nimport csv"
        },
        {
            "cell_type": "code",
            "execution_count": 2,
            "metadata": {},
            "outputs": [],
            "source": "pd.set_option('max_colwidth', 800)"
        },
        {
            "cell_type": "markdown",
            "metadata": {},
            "source": "#### Getting the source of the webpage and assigining the variable source to it and iniatilizing the beautifulsoup object to soup"
        },
        {
            "cell_type": "code",
            "execution_count": 3,
            "metadata": {},
            "outputs": [],
            "source": "source = requests.get('https://en.wikipedia.org/wiki/List_of_postal_codes_of_Canada:_M').text \nsoup = BeautifulSoup(source, 'lxml')"
        },
        {
            "cell_type": "markdown",
            "metadata": {},
            "source": "#### Initializing the csv_writer object and writing the name of the columns on it as the first row"
        },
        {
            "cell_type": "code",
            "execution_count": 4,
            "metadata": {},
            "outputs": [
                {
                    "data": {
                        "text/plain": "35"
                    },
                    "execution_count": 4,
                    "metadata": {},
                    "output_type": "execute_result"
                }
            ],
            "source": "csv_file = open('toronto_postal_codes.csv', 'w')\ncsv_writer = csv.writer(csv_file)\ncsv_writer.writerow(['Postal Code', 'Borough', 'Neighbourhood'])"
        },
        {
            "cell_type": "markdown",
            "metadata": {},
            "source": "#### Scraping the webpage to extract the data table"
        },
        {
            "cell_type": "code",
            "execution_count": 5,
            "metadata": {},
            "outputs": [],
            "source": "table = soup.find('table', class_ = 'wikitable sortable') # Gets the table from the webpage\nrows = table.find_all('tr') # Gets the table rows\n\npostcodes = [] # Initializes the raw postcodes list\nboroughs = [] # Initializes the raw boroughs list\nneighbourhoods = [] # Initializes the raw neighbourhoods list\n\nfor row in rows:    \n    columns = row.find_all('td')\n    try :\n        if columns[1].text != 'Not assigned':  # To skip if the borough name is 'Not Assigned'\n            \n            postcode = columns[0].text\n            postcodes.append(postcode)\n            \n            borough = columns[1].text\n            boroughs.append(borough)\n            \n            neighbourhood = columns[2].text.split('\\n')[0] # Removing the newline character at the end     \n            \n            if neighbourhood == 'Not assigned': # Assigning the same name to neighbourhood if it is 'Not Assigned'\n                neighbourhood = borough            \n                \n            neighbourhoods.append(neighbourhood)\n             \n    except Exception as e : # To skip the first row which contains column names\n        pass \n    \npostcode_explored = [] # Initializing the list of explored postcodes\nfor index_i, postcode_i in enumerate(postcodes) :   \n    if postcode_i not in postcode_explored :\n        nbds = neighbourhoods[index_i]\n        for index_f, postcode_f in enumerate(postcodes) :\n            if postcode_i == postcode_f and index_i != index_f:\n                nbds = nbds + ', ' + neighbourhoods[index_f] # Concatenating the neighbourhood names\n        csv_writer.writerow([postcode_i, boroughs[index_i], nbds]) # Writing the rows in the csv file\n        postcode_explored.append(postcode_i)"
        },
        {
            "cell_type": "markdown",
            "metadata": {},
            "source": "#### Closing the csv file"
        },
        {
            "cell_type": "code",
            "execution_count": 6,
            "metadata": {},
            "outputs": [],
            "source": "csv_file.close()"
        },
        {
            "cell_type": "markdown",
            "metadata": {},
            "source": "#### Creating the pandas dataframe"
        },
        {
            "cell_type": "code",
            "execution_count": 7,
            "metadata": {},
            "outputs": [],
            "source": "df = pd.read_csv('toronto_postal_codes.csv')"
        },
        {
            "cell_type": "markdown",
            "metadata": {},
            "source": "#### Getting the shape of the dataframe"
        },
        {
            "cell_type": "code",
            "execution_count": 8,
            "metadata": {},
            "outputs": [
                {
                    "data": {
                        "text/plain": "(103, 3)"
                    },
                    "execution_count": 8,
                    "metadata": {},
                    "output_type": "execute_result"
                }
            ],
            "source": "df.shape"
        },
        {
            "cell_type": "markdown",
            "metadata": {},
            "source": "#### First five rows of the dataframe"
        },
        {
            "cell_type": "code",
            "execution_count": 9,
            "metadata": {},
            "outputs": [
                {
                    "data": {
                        "text/html": "<div>\n<style scoped>\n    .dataframe tbody tr th:only-of-type {\n        vertical-align: middle;\n    }\n\n    .dataframe tbody tr th {\n        vertical-align: top;\n    }\n\n    .dataframe thead th {\n        text-align: right;\n    }\n</style>\n<table border=\"1\" class=\"dataframe\">\n  <thead>\n    <tr style=\"text-align: right;\">\n      <th></th>\n      <th>Postal Code</th>\n      <th>Borough</th>\n      <th>Neighbourhood</th>\n    </tr>\n  </thead>\n  <tbody>\n    <tr>\n      <th>0</th>\n      <td>M3A</td>\n      <td>North York</td>\n      <td>Parkwoods</td>\n    </tr>\n    <tr>\n      <th>1</th>\n      <td>M4A</td>\n      <td>North York</td>\n      <td>Victoria Village</td>\n    </tr>\n    <tr>\n      <th>2</th>\n      <td>M5A</td>\n      <td>Downtown Toronto</td>\n      <td>Harbourfront</td>\n    </tr>\n    <tr>\n      <th>3</th>\n      <td>M6A</td>\n      <td>North York</td>\n      <td>Lawrence Heights, Lawrence Manor</td>\n    </tr>\n    <tr>\n      <th>4</th>\n      <td>M7A</td>\n      <td>Queen's Park</td>\n      <td>Queen's Park</td>\n    </tr>\n  </tbody>\n</table>\n</div>",
                        "text/plain": "  Postal Code           Borough                     Neighbourhood\n0         M3A        North York                         Parkwoods\n1         M4A        North York                  Victoria Village\n2         M5A  Downtown Toronto                      Harbourfront\n3         M6A        North York  Lawrence Heights, Lawrence Manor\n4         M7A      Queen's Park                      Queen's Park"
                    },
                    "execution_count": 9,
                    "metadata": {},
                    "output_type": "execute_result"
                }
            ],
            "source": "df.head()"
        },
        {
            "cell_type": "markdown",
            "metadata": {},
            "source": "#### Getting the Latitudes and Longitudes from the csv file into a pandas dataframe"
        },
        {
            "cell_type": "code",
            "execution_count": 10,
            "metadata": {},
            "outputs": [
                {
                    "data": {
                        "text/html": "<div>\n<style scoped>\n    .dataframe tbody tr th:only-of-type {\n        vertical-align: middle;\n    }\n\n    .dataframe tbody tr th {\n        vertical-align: top;\n    }\n\n    .dataframe thead th {\n        text-align: right;\n    }\n</style>\n<table border=\"1\" class=\"dataframe\">\n  <thead>\n    <tr style=\"text-align: right;\">\n      <th></th>\n      <th>Postal Code</th>\n      <th>Latitude</th>\n      <th>Longitude</th>\n    </tr>\n  </thead>\n  <tbody>\n    <tr>\n      <th>0</th>\n      <td>M1B</td>\n      <td>43.806686</td>\n      <td>-79.194353</td>\n    </tr>\n    <tr>\n      <th>1</th>\n      <td>M1C</td>\n      <td>43.784535</td>\n      <td>-79.160497</td>\n    </tr>\n    <tr>\n      <th>2</th>\n      <td>M1E</td>\n      <td>43.763573</td>\n      <td>-79.188711</td>\n    </tr>\n    <tr>\n      <th>3</th>\n      <td>M1G</td>\n      <td>43.770992</td>\n      <td>-79.216917</td>\n    </tr>\n    <tr>\n      <th>4</th>\n      <td>M1H</td>\n      <td>43.773136</td>\n      <td>-79.239476</td>\n    </tr>\n  </tbody>\n</table>\n</div>",
                        "text/plain": "  Postal Code   Latitude  Longitude\n0         M1B  43.806686 -79.194353\n1         M1C  43.784535 -79.160497\n2         M1E  43.763573 -79.188711\n3         M1G  43.770992 -79.216917\n4         M1H  43.773136 -79.239476"
                    },
                    "execution_count": 10,
                    "metadata": {},
                    "output_type": "execute_result"
                }
            ],
            "source": "# The code was removed by Watson Studio for sharing."
        },
        {
            "cell_type": "markdown",
            "metadata": {},
            "source": "#### Set indexes of two dataframes to its Postal Code columns and merge them"
        },
        {
            "cell_type": "code",
            "execution_count": 11,
            "metadata": {},
            "outputs": [
                {
                    "data": {
                        "text/html": "<div>\n<style scoped>\n    .dataframe tbody tr th:only-of-type {\n        vertical-align: middle;\n    }\n\n    .dataframe tbody tr th {\n        vertical-align: top;\n    }\n\n    .dataframe thead th {\n        text-align: right;\n    }\n</style>\n<table border=\"1\" class=\"dataframe\">\n  <thead>\n    <tr style=\"text-align: right;\">\n      <th></th>\n      <th>Borough</th>\n      <th>Neighbourhood</th>\n      <th>Latitude</th>\n      <th>Longitude</th>\n    </tr>\n    <tr>\n      <th>Postal Code</th>\n      <th></th>\n      <th></th>\n      <th></th>\n      <th></th>\n    </tr>\n  </thead>\n  <tbody>\n    <tr>\n      <th>M3A</th>\n      <td>North York</td>\n      <td>Parkwoods</td>\n      <td>43.753259</td>\n      <td>-79.329656</td>\n    </tr>\n    <tr>\n      <th>M4A</th>\n      <td>North York</td>\n      <td>Victoria Village</td>\n      <td>43.725882</td>\n      <td>-79.315572</td>\n    </tr>\n    <tr>\n      <th>M5A</th>\n      <td>Downtown Toronto</td>\n      <td>Harbourfront</td>\n      <td>43.654260</td>\n      <td>-79.360636</td>\n    </tr>\n    <tr>\n      <th>M6A</th>\n      <td>North York</td>\n      <td>Lawrence Heights, Lawrence Manor</td>\n      <td>43.718518</td>\n      <td>-79.464763</td>\n    </tr>\n    <tr>\n      <th>M7A</th>\n      <td>Queen's Park</td>\n      <td>Queen's Park</td>\n      <td>43.662301</td>\n      <td>-79.389494</td>\n    </tr>\n  </tbody>\n</table>\n</div>",
                        "text/plain": "                      Borough                     Neighbourhood   Latitude  \\\nPostal Code                                                                  \nM3A                North York                         Parkwoods  43.753259   \nM4A                North York                  Victoria Village  43.725882   \nM5A          Downtown Toronto                      Harbourfront  43.654260   \nM6A                North York  Lawrence Heights, Lawrence Manor  43.718518   \nM7A              Queen's Park                      Queen's Park  43.662301   \n\n             Longitude  \nPostal Code             \nM3A         -79.329656  \nM4A         -79.315572  \nM5A         -79.360636  \nM6A         -79.464763  \nM7A         -79.389494  "
                    },
                    "execution_count": 11,
                    "metadata": {},
                    "output_type": "execute_result"
                }
            ],
            "source": "df1 = df.set_index('Postal Code')\ncoors1 = df_coors.set_index('Postal Code')\ndf_coors = pd.concat([df1, coors1], axis=1, join='inner')\ndf_coors.head()"
        },
        {
            "cell_type": "markdown",
            "metadata": {},
            "source": "#### Resetting the index"
        },
        {
            "cell_type": "code",
            "execution_count": 13,
            "metadata": {},
            "outputs": [
                {
                    "data": {
                        "text/html": "<div>\n<style scoped>\n    .dataframe tbody tr th:only-of-type {\n        vertical-align: middle;\n    }\n\n    .dataframe tbody tr th {\n        vertical-align: top;\n    }\n\n    .dataframe thead th {\n        text-align: right;\n    }\n</style>\n<table border=\"1\" class=\"dataframe\">\n  <thead>\n    <tr style=\"text-align: right;\">\n      <th></th>\n      <th>Postal Code</th>\n      <th>Borough</th>\n      <th>Neighbourhood</th>\n      <th>Latitude</th>\n      <th>Longitude</th>\n    </tr>\n  </thead>\n  <tbody>\n    <tr>\n      <th>0</th>\n      <td>M3A</td>\n      <td>North York</td>\n      <td>Parkwoods</td>\n      <td>43.753259</td>\n      <td>-79.329656</td>\n    </tr>\n    <tr>\n      <th>1</th>\n      <td>M4A</td>\n      <td>North York</td>\n      <td>Victoria Village</td>\n      <td>43.725882</td>\n      <td>-79.315572</td>\n    </tr>\n    <tr>\n      <th>2</th>\n      <td>M5A</td>\n      <td>Downtown Toronto</td>\n      <td>Harbourfront</td>\n      <td>43.654260</td>\n      <td>-79.360636</td>\n    </tr>\n    <tr>\n      <th>3</th>\n      <td>M6A</td>\n      <td>North York</td>\n      <td>Lawrence Heights, Lawrence Manor</td>\n      <td>43.718518</td>\n      <td>-79.464763</td>\n    </tr>\n    <tr>\n      <th>4</th>\n      <td>M7A</td>\n      <td>Queen's Park</td>\n      <td>Queen's Park</td>\n      <td>43.662301</td>\n      <td>-79.389494</td>\n    </tr>\n  </tbody>\n</table>\n</div>",
                        "text/plain": "  Postal Code           Borough                     Neighbourhood   Latitude  \\\n0         M3A        North York                         Parkwoods  43.753259   \n1         M4A        North York                  Victoria Village  43.725882   \n2         M5A  Downtown Toronto                      Harbourfront  43.654260   \n3         M6A        North York  Lawrence Heights, Lawrence Manor  43.718518   \n4         M7A      Queen's Park                      Queen's Park  43.662301   \n\n   Longitude  \n0 -79.329656  \n1 -79.315572  \n2 -79.360636  \n3 -79.464763  \n4 -79.389494  "
                    },
                    "execution_count": 13,
                    "metadata": {},
                    "output_type": "execute_result"
                }
            ],
            "source": "df_coors.reset_index(inplace=True)\ndf_coors.head()"
        },
        {
            "cell_type": "markdown",
            "metadata": {},
            "source": "#### Creating a test dataframe to check the coordinates are added as required by the question"
        },
        {
            "cell_type": "code",
            "execution_count": 14,
            "metadata": {},
            "outputs": [
                {
                    "data": {
                        "text/html": "<div>\n<style scoped>\n    .dataframe tbody tr th:only-of-type {\n        vertical-align: middle;\n    }\n\n    .dataframe tbody tr th {\n        vertical-align: top;\n    }\n\n    .dataframe thead th {\n        text-align: right;\n    }\n</style>\n<table border=\"1\" class=\"dataframe\">\n  <thead>\n    <tr style=\"text-align: right;\">\n      <th></th>\n      <th>Borough</th>\n      <th>Latitude</th>\n      <th>Longitude</th>\n      <th>Neighborhood</th>\n      <th>Neighbourhood</th>\n      <th>Postal Code</th>\n    </tr>\n  </thead>\n  <tbody>\n    <tr>\n      <th>0</th>\n      <td>Downtown Toronto</td>\n      <td>43.657952</td>\n      <td>-79.387383</td>\n      <td>NaN</td>\n      <td>Central Bay Street</td>\n      <td>M5G</td>\n    </tr>\n    <tr>\n      <th>1</th>\n      <td>North York</td>\n      <td>43.803762</td>\n      <td>-79.363452</td>\n      <td>NaN</td>\n      <td>Hillcrest Village</td>\n      <td>M2H</td>\n    </tr>\n    <tr>\n      <th>2</th>\n      <td>East York</td>\n      <td>43.706397</td>\n      <td>-79.309937</td>\n      <td>NaN</td>\n      <td>Woodbine Gardens, Parkview Hill</td>\n      <td>M4B</td>\n    </tr>\n    <tr>\n      <th>3</th>\n      <td>Scarborough</td>\n      <td>43.744734</td>\n      <td>-79.239476</td>\n      <td>NaN</td>\n      <td>Scarborough Village</td>\n      <td>M1J</td>\n    </tr>\n    <tr>\n      <th>4</th>\n      <td>East York</td>\n      <td>43.709060</td>\n      <td>-79.363452</td>\n      <td>NaN</td>\n      <td>Leaside</td>\n      <td>M4G</td>\n    </tr>\n    <tr>\n      <th>5</th>\n      <td>East Toronto</td>\n      <td>43.659526</td>\n      <td>-79.340923</td>\n      <td>NaN</td>\n      <td>Studio District</td>\n      <td>M4M</td>\n    </tr>\n    <tr>\n      <th>6</th>\n      <td>Scarborough</td>\n      <td>43.750072</td>\n      <td>-79.295849</td>\n      <td>NaN</td>\n      <td>Maryvale, Wexford</td>\n      <td>M1R</td>\n    </tr>\n    <tr>\n      <th>7</th>\n      <td>Etobicoke</td>\n      <td>43.739416</td>\n      <td>-79.588437</td>\n      <td>NaN</td>\n      <td>Albion Gardens, Beaumond Heights, Humbergate, Jamestown, Mount Olive, Silverstone, South Steeles, Thistletown</td>\n      <td>M9V</td>\n    </tr>\n    <tr>\n      <th>8</th>\n      <td>North York</td>\n      <td>43.756303</td>\n      <td>-79.565963</td>\n      <td>NaN</td>\n      <td>Humber Summit</td>\n      <td>M9L</td>\n    </tr>\n    <tr>\n      <th>9</th>\n      <td>Downtown Toronto</td>\n      <td>43.628947</td>\n      <td>-79.394420</td>\n      <td>NaN</td>\n      <td>CN Tower, Bathurst Quay, Island airport, Harbourfront West, King and Spadina, Railway Lands, South Niagara</td>\n      <td>M5V</td>\n    </tr>\n    <tr>\n      <th>10</th>\n      <td>Scarborough</td>\n      <td>43.806686</td>\n      <td>-79.194353</td>\n      <td>NaN</td>\n      <td>Rouge, Malvern</td>\n      <td>M1B</td>\n    </tr>\n    <tr>\n      <th>11</th>\n      <td>Downtown Toronto</td>\n      <td>43.654260</td>\n      <td>-79.360636</td>\n      <td>NaN</td>\n      <td>Harbourfront</td>\n      <td>M5A</td>\n    </tr>\n  </tbody>\n</table>\n</div>",
                        "text/plain": "             Borough   Latitude  Longitude Neighborhood  \\\n0   Downtown Toronto  43.657952 -79.387383          NaN   \n1         North York  43.803762 -79.363452          NaN   \n2          East York  43.706397 -79.309937          NaN   \n3        Scarborough  43.744734 -79.239476          NaN   \n4          East York  43.709060 -79.363452          NaN   \n5       East Toronto  43.659526 -79.340923          NaN   \n6        Scarborough  43.750072 -79.295849          NaN   \n7          Etobicoke  43.739416 -79.588437          NaN   \n8         North York  43.756303 -79.565963          NaN   \n9   Downtown Toronto  43.628947 -79.394420          NaN   \n10       Scarborough  43.806686 -79.194353          NaN   \n11  Downtown Toronto  43.654260 -79.360636          NaN   \n\n                                                                                                    Neighbourhood  \\\n0                                                                                              Central Bay Street   \n1                                                                                               Hillcrest Village   \n2                                                                                 Woodbine Gardens, Parkview Hill   \n3                                                                                             Scarborough Village   \n4                                                                                                         Leaside   \n5                                                                                                 Studio District   \n6                                                                                               Maryvale, Wexford   \n7   Albion Gardens, Beaumond Heights, Humbergate, Jamestown, Mount Olive, Silverstone, South Steeles, Thistletown   \n8                                                                                                   Humber Summit   \n9      CN Tower, Bathurst Quay, Island airport, Harbourfront West, King and Spadina, Railway Lands, South Niagara   \n10                                                                                                 Rouge, Malvern   \n11                                                                                                   Harbourfront   \n\n   Postal Code  \n0          M5G  \n1          M2H  \n2          M4B  \n3          M1J  \n4          M4G  \n5          M4M  \n6          M1R  \n7          M9V  \n8          M9L  \n9          M5V  \n10         M1B  \n11         M5A  "
                    },
                    "execution_count": 14,
                    "metadata": {},
                    "output_type": "execute_result"
                }
            ],
            "source": "# create a new test dataframe\ncolumn_names = [\"Postal Code\", \"Borough\", \"Neighborhood\", \"Latitude\", \"Longitude\"]\ntest_df = pd.DataFrame(columns=column_names)\n\ntest_list = [\"M5G\", \"M2H\", \"M4B\", \"M1J\", \"M4G\", \"M4M\", \"M1R\", \"M9V\", \"M9L\", \"M5V\", \"M1B\", \"M5A\"]\n\nfor postcode in test_list:\n    test_df = test_df.append(df_coors[df_coors[\"Postal Code\"]==postcode], ignore_index=True, sort= True)\n    \ntest_df"
        }
    ],
    "metadata": {
        "kernelspec": {
            "display_name": "Python 3.6",
            "language": "python",
            "name": "python3"
        },
        "language_info": {
            "codemirror_mode": {
                "name": "ipython",
                "version": 3
            },
            "file_extension": ".py",
            "mimetype": "text/x-python",
            "name": "python",
            "nbconvert_exporter": "python",
            "pygments_lexer": "ipython3",
            "version": "3.6.8"
        }
    },
    "nbformat": 4,
    "nbformat_minor": 1
}